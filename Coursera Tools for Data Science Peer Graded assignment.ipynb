{
 "cells": [
  {
   "cell_type": "markdown",
   "id": "7825be74",
   "metadata": {},
   "source": [
    "# Final Project Notebook\n"
   ]
  },
  {
   "cell_type": "markdown",
   "id": "45b5f190",
   "metadata": {},
   "source": [
    "## Introduction\n",
    "Welcome to my final project notebook. In this notebook, we will explore various aspects of data science.\n"
   ]
  },
  {
   "cell_type": "markdown",
   "id": "158e2daa",
   "metadata": {},
   "source": [
    "## Data Science Languages\n",
    "- Python\n",
    "- R\n",
    "- Julia\n",
    "- SQL"
   ]
  },
  {
   "cell_type": "markdown",
   "id": "b45ec324",
   "metadata": {},
   "source": [
    "## Data Science Libraries\n",
    "- Pandas\n",
    "- NumPy\n",
    "- Matplotlib\n",
    "- Seaborn\n",
    "- Scikit-learn\n",
    "- TensorFlow\n",
    "- PyTorch\n"
   ]
  },
  {
   "cell_type": "markdown",
   "id": "a41d515d",
   "metadata": {},
   "source": [
    "## Data Science Tools\n",
    "| Tool        | Description                            |\n",
    "|-------------|----------------------------------------|\n",
    "| Jupyter     | Interactive computing environment      |\n",
    "| VS Code     | Integrated development environment     |\n",
    "| Spyder      | Scientific Python development IDE      |\n",
    "| RStudio     | Integrated development environment for R|\n",
    "| SQL Server  | Relational database management system |\n"
   ]
  },
  {
   "cell_type": "markdown",
   "id": "c787153f",
   "metadata": {},
   "source": [
    "## Arithmetic Expression Examples\n",
    "Let's explore some basic arithmetic operations using Python.\n"
   ]
  },
  {
   "cell_type": "code",
   "execution_count": 2,
   "id": "ea78ad1a",
   "metadata": {},
   "outputs": [
    {
     "name": "stdout",
     "output_type": "stream",
     "text": [
      "Multiplication result: 15\n",
      "Addition result: 8\n"
     ]
    }
   ],
   "source": [
    "# Multiply and add numbers\n",
    "a = 5\n",
    "b = 3\n",
    "multiply_result = a * b\n",
    "add_result = a + b\n",
    "print(\"Multiplication result:\", multiply_result)\n",
    "print(\"Addition result:\", add_result)\n"
   ]
  },
  {
   "cell_type": "code",
   "execution_count": 3,
   "id": "bf1a20ef",
   "metadata": {},
   "outputs": [
    {
     "name": "stdout",
     "output_type": "stream",
     "text": [
      "Hours: 2.0\n"
     ]
    }
   ],
   "source": [
    "# Convert minutes to hours\n",
    "minutes = 120\n",
    "hours = minutes / 60\n",
    "print(\"Hours:\", hours)\n"
   ]
  },
  {
   "cell_type": "markdown",
   "id": "c7e7509a",
   "metadata": {},
   "source": [
    "## Objectives\n",
    "- Learn about data science languages and libraries\n",
    "- Practice basic arithmetic operations in Python\n",
    "- Gain familiarity with Jupyter notebooks\n"
   ]
  },
  {
   "cell_type": "markdown",
   "id": "7c15c738",
   "metadata": {},
   "source": [
    "## Author\n",
    "John Doe\n"
   ]
  },
  {
   "cell_type": "code",
   "execution_count": null,
   "id": "6dba7050",
   "metadata": {},
   "outputs": [],
   "source": []
  }
 ],
 "metadata": {
  "kernelspec": {
   "display_name": "Python 3 (ipykernel)",
   "language": "python",
   "name": "python3"
  },
  "language_info": {
   "codemirror_mode": {
    "name": "ipython",
    "version": 3
   },
   "file_extension": ".py",
   "mimetype": "text/x-python",
   "name": "python",
   "nbconvert_exporter": "python",
   "pygments_lexer": "ipython3",
   "version": "3.11.4"
  }
 },
 "nbformat": 4,
 "nbformat_minor": 5
}
